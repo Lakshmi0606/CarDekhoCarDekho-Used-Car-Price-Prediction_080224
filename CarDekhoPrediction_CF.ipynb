{
  "nbformat": 4,
  "nbformat_minor": 0,
  "metadata": {
    "colab": {
      "private_outputs": true,
      "provenance": [],
      "authorship_tag": "ABX9TyNEWAmpRsK4dxi4bP+RPM7T",
      "include_colab_link": true
    },
    "kernelspec": {
      "name": "python3",
      "display_name": "Python 3"
    },
    "language_info": {
      "name": "python"
    }
  },
  "cells": [
    {
      "cell_type": "markdown",
      "metadata": {
        "id": "view-in-github",
        "colab_type": "text"
      },
      "source": [
        "<a href=\"https://colab.research.google.com/github/Lakshmi0606/CarDekhoCarDekho-Used-Car-Price-Prediction_080224/blob/main/CarDekhoPrediction_CF.ipynb\" target=\"_parent\"><img src=\"https://colab.research.google.com/assets/colab-badge.svg\" alt=\"Open In Colab\"/></a>"
      ]
    },
    {
      "cell_type": "markdown",
      "source": [
        "Libraries\n"
      ],
      "metadata": {
        "id": "i95pWAF93xu4"
      }
    },
    {
      "cell_type": "code",
      "source": [
        "import numpy as np\n",
        "import pandas as pd\n",
        "\n",
        "import warnings\n",
        "warnings.filterwarnings(\"ignore\")\n",
        "\n",
        "from sklearn.model_selection import train_test_split, RandomizedSearchCV\n",
        "from sklearn.linear_model import LinearRegression, Ridge, Lasso\n",
        "from sklearn.svm import SVR\n",
        "from sklearn.tree import DecisionTreeRegressor\n",
        "from sklearn.ensemble import ExtraTreesRegressor, RandomForestRegressor\n",
        "from sklearn.metrics import mean_absolute_error, mean_squared_error, explained_variance_score, r2_score\n",
        "import pickle\n",
        "\n",
        "import matplotlib.pyplot as plt\n",
        "import seaborn as sns\n",
        "%matplotlib inline"
      ],
      "metadata": {
        "id": "rZSr3yGw33PF"
      },
      "execution_count": null,
      "outputs": []
    },
    {
      "cell_type": "markdown",
      "source": [
        "Loading dataset"
      ],
      "metadata": {
        "id": "PBPWyTOY43lf"
      }
    },
    {
      "cell_type": "code",
      "source": [
        "df = pd.read_csv('car data.csv')\n",
        "\n",
        "df.head()"
      ],
      "metadata": {
        "id": "Ljx_JcLh44NH"
      },
      "execution_count": null,
      "outputs": []
    },
    {
      "cell_type": "markdown",
      "source": [],
      "metadata": {
        "id": "8cJlbiCF7ERh"
      }
    },
    {
      "cell_type": "code",
      "source": [
        "df2 = pd.read_csv('Car details v3.csv')\n",
        "\n",
        "df2.head()"
      ],
      "metadata": {
        "id": "kpRXXynH6q6v"
      },
      "execution_count": null,
      "outputs": []
    },
    {
      "cell_type": "markdown",
      "source": [
        "Exploratory data analysis EDA"
      ],
      "metadata": {
        "id": "cmJwGcyE7H31"
      }
    },
    {
      "cell_type": "code",
      "source": [
        "print('The size of Dataframe is: ', df.shape)\n",
        "print('\\n')\n",
        "df.info()"
      ],
      "metadata": {
        "id": "56FVXVyK7NRB"
      },
      "execution_count": null,
      "outputs": []
    },
    {
      "cell_type": "code",
      "source": [
        "print('The size of Dataframe is: ', df2.shape)\n",
        "print('\\n')\n",
        "df2.info()"
      ],
      "metadata": {
        "id": "sGAijCJD7QyP"
      },
      "execution_count": null,
      "outputs": []
    },
    {
      "cell_type": "markdown",
      "source": [],
      "metadata": {
        "id": "zlaTC1XW7Wdk"
      }
    },
    {
      "cell_type": "code",
      "source": [
        "# To find total_missing_values in different columns of data and their percentage\n",
        "def missing_data(data):\n",
        "    \"\"\"\n",
        "    This will take in a dataframe and\n",
        "    finds the total_missing_values as well as percentage of the value counts\n",
        "    \"\"\"\n",
        "    total = data.isnull().sum().sort_values(ascending = False)\n",
        "    percent = (data.isnull().sum()/data.isnull().count()*100).sort_values(ascending = False)\n",
        "    return pd.concat([total, percent], axis=1, keys=['Total', 'Percent'])"
      ],
      "metadata": {
        "id": "U0N68ivQ7Wuk"
      },
      "execution_count": null,
      "outputs": []
    },
    {
      "cell_type": "code",
      "source": [
        "missing_data(data= df)\n"
      ],
      "metadata": {
        "id": "K-wGJm1-7fYb"
      },
      "execution_count": null,
      "outputs": []
    },
    {
      "cell_type": "code",
      "source": [
        "# missing_data(data2= df2)"
      ],
      "metadata": {
        "id": "o7usiwu97mar"
      },
      "execution_count": null,
      "outputs": []
    },
    {
      "cell_type": "code",
      "source": [
        "print(\"'Fuel_Type' variable have {} unique category : {}\\n\".format(df['Fuel_Type'].nunique(), df['Fuel_Type'].unique()))\n",
        "print(\"'Seller_Type' variable have {} unique category : {}\\n\".format(df['Seller_Type'].nunique(), \\\n",
        "                                                                     df['Seller_Type'].unique()))\n",
        "print(\"'Transmission' variable have {} unique category : {}\\n\".format(df['Transmission'].nunique(), \\\n",
        "                                                                    df['Transmission'].unique()))\n",
        "print(\"'Owner' variable have {} unique category : {}\".format(df['Owner'].nunique(), df['Owner'].unique()))"
      ],
      "metadata": {
        "id": "8EOURmm68Aoi"
      },
      "execution_count": null,
      "outputs": []
    },
    {
      "cell_type": "code",
      "source": [
        "df['Owner'].replace(to_replace=3, value=2, inplace= True)\n",
        "print(\"'Owner' variable have {} unique category : {}\".format(df['Owner'].nunique(), df['Owner'].unique()))"
      ],
      "metadata": {
        "id": "6AcFshDx8FLM"
      },
      "execution_count": null,
      "outputs": []
    },
    {
      "cell_type": "code",
      "source": [
        "# Descriptive statistical summary of numerical features\n",
        "df.describe()"
      ],
      "metadata": {
        "id": "i8daCV6Z8IPW"
      },
      "execution_count": null,
      "outputs": []
    },
    {
      "cell_type": "code",
      "source": [
        "# Descriptive statistical summary of categorical features\n",
        "df.describe(include= 'object')"
      ],
      "metadata": {
        "id": "5iz89-8K8L6s"
      },
      "execution_count": null,
      "outputs": []
    },
    {
      "cell_type": "markdown",
      "source": [
        "Features"
      ],
      "metadata": {
        "id": "DL153jHi8RgB"
      }
    },
    {
      "cell_type": "code",
      "source": [],
      "metadata": {
        "id": "qKAemOVl8Wnr"
      },
      "execution_count": null,
      "outputs": []
    },
    {
      "cell_type": "code",
      "source": [
        "# Let's see all column names\n",
        "df.columns"
      ],
      "metadata": {
        "id": "J41Lsd058PLF"
      },
      "execution_count": null,
      "outputs": []
    },
    {
      "cell_type": "code",
      "source": [
        "# Let's create a new variable 'Current_Year'\n",
        "df['Current_Year'] = 2020\n",
        "\n",
        "# To Calculate how old the car is, I created new feature \"No_of_Years\"\n",
        "df['No_of_Years'] = df['Current_Year'] - df['Year']\n",
        "\n",
        "df.head()"
      ],
      "metadata": {
        "id": "r2Y-smI-8YKo"
      },
      "execution_count": null,
      "outputs": []
    },
    {
      "cell_type": "code",
      "source": [
        "final_df = df.copy()            # Creating copy of created dataframe\n",
        "final_df.drop(labels= ['Car_Name','Year', 'Current_Year'], axis= 1, inplace= True)          #droping unnecessary features\n",
        "\n",
        "final_df.head()"
      ],
      "metadata": {
        "id": "pkbaO_Vp8c-5"
      },
      "execution_count": null,
      "outputs": []
    },
    {
      "cell_type": "markdown",
      "source": [
        "**Data visualisations**"
      ],
      "metadata": {
        "id": "NAzI7m-T8mQ0"
      }
    },
    {
      "cell_type": "code",
      "source": [
        "sns.pairplot(data= final_df, hue= 'Fuel_Type', diag_kind= 'kde')"
      ],
      "metadata": {
        "id": "h4BQjmcl8hqb"
      },
      "execution_count": null,
      "outputs": []
    },
    {
      "cell_type": "code",
      "source": [
        "# Let's see the distribution of the two variable from our data\n",
        "fig = plt.figure(figsize=(20,20)) # create figure\n",
        "\n",
        "sns.set(font_scale= 1)\n",
        "sns.set_style('darkgrid')\n",
        "\n",
        "ax0 = fig.add_subplot(2, 2, 1) # add subplot 1 (2 row, 2 columns, first plot)\n",
        "ax1 = fig.add_subplot(2, 2, 2) # add subplot 2 (2 row, 2 columns, second plot)\n",
        "ax2 = fig.add_subplot(2, 2, 3) # add subplot 1 (2 row, 2 columns, third plot)\n",
        "ax3 = fig.add_subplot(2, 2, 4) # add subplot 1 (2 row, 2 columns, fourth plot)\n",
        "\n",
        "# Subplot 1: Distplot of 'Selling_Price' feature\n",
        "k1 = sns.distplot(a = final_df['Selling_Price'], bins= 25, ax=ax0) # add to subplot 1\n",
        "ax0.set_title('Distribution of Selling Price', fontsize=16)\n",
        "ax0.set(xlabel= 'Selling Price', ylabel= 'Density')\n",
        "\n",
        "# Subplot 2: Distplot of 'Present_Price' feature\n",
        "k2 = sns.distplot(a = final_df['Present_Price'], bins= 25, ax=ax1) # add to subplot 2\n",
        "ax1.set_title('Distribution of Present Price', fontsize=16)\n",
        "ax1.set(xlabel= 'Present Price', ylabel= 'Density')\n",
        "\n",
        "# Subplot 3: Distplot of 'Kms_Driven' feature\n",
        "k1 = sns.distplot(a = final_df['Kms_Driven'], bins= 25, ax=ax2) # add to subplot 3\n",
        "ax2.set_title('Distribution of Kilometers Driven', fontsize=16)\n",
        "ax2.set(xlabel= 'Kilometers Driven', ylabel= 'Density')\n",
        "\n",
        "# Subplot 4: Distplot of 'No_of_Years' feature\n",
        "k1 = sns.distplot(a = final_df['No_of_Years'], bins= 15, ax=ax3) # add to subplot 4\n",
        "ax3.set_title('Distribution of Number of Years', fontsize=16)\n",
        "ax3.set(xlabel= 'Number of Years', ylabel= 'Density')\n",
        "\n",
        "plt.show()\n",
        "#fig.savefig(\"Distributionplot.png\")"
      ],
      "metadata": {
        "id": "I0jfNyhg88jk"
      },
      "execution_count": null,
      "outputs": []
    },
    {
      "cell_type": "code",
      "source": [
        "print(\"'No_of_Years' variable have {} unique category : {}\".format(final_df['No_of_Years'].nunique(),\n",
        "                                                                   final_df['No_of_Years'].unique()))"
      ],
      "metadata": {
        "id": "-kfKPQ4t9BTc"
      },
      "execution_count": null,
      "outputs": []
    },
    {
      "cell_type": "code",
      "source": [
        "cat_col = list(final_df.columns[3:7])\n",
        "\n",
        "fig = plt.figure(figsize= (16,16))\n",
        "plt.suptitle('Categorical features value counts', fontsize = 24)\n",
        "k=0\n",
        "for i in range(1,5):\n",
        "    ax = fig.add_subplot(2,2,i)\n",
        "    cat_order = final_df[cat_col[k]].value_counts()\n",
        "    sns.countplot(data = final_df, x = cat_col[k], order = cat_order.index, ax= ax)\n",
        "    plt.xlabel(cat_col[k], fontsize=14)\n",
        "    plt.ylabel('Count', fontsize=14)\n",
        "    plt.title('{} Value Counts'.format(cat_col[k]), fontsize=18)\n",
        "\n",
        "    for j in range(cat_order.shape[0]):\n",
        "        count = cat_order[j]\n",
        "        strt='{}'.format(count)\n",
        "        plt.text(j,count+0.1,strt,ha='center', fontsize=16)\n",
        "    k=k+1\n"
      ],
      "metadata": {
        "id": "ja8Z9sri9E-H"
      },
      "execution_count": null,
      "outputs": []
    },
    {
      "cell_type": "code",
      "source": [
        "plt.figure(figsize=(10,8))\n",
        "sns.countplot(data= final_df, x= 'No_of_Years')\n",
        "plt.xlabel('Number of Years', fontsize=14)\n",
        "plt.ylabel('Counts', fontsize=14)\n",
        "plt.title('Number of Years Value Counts', fontsize=18)"
      ],
      "metadata": {
        "id": "1aOwLgGb9IrM"
      },
      "execution_count": null,
      "outputs": []
    },
    {
      "cell_type": "code",
      "source": [
        "final_df = pd.get_dummies(final_df, drop_first=True)\n",
        "final_df.head()"
      ],
      "metadata": {
        "id": "1ZCi0d4P9MVj"
      },
      "execution_count": null,
      "outputs": []
    },
    {
      "cell_type": "code",
      "source": [],
      "metadata": {
        "id": "-yPwTCN79XBj"
      },
      "execution_count": null,
      "outputs": []
    },
    {
      "cell_type": "code",
      "source": [],
      "metadata": {
        "id": "e6ByYMy-9aSl"
      },
      "execution_count": null,
      "outputs": []
    },
    {
      "cell_type": "code",
      "source": [
        "plt.figure(figsize=(12,10))\n",
        "sns.heatmap(data = final_df.corr(), annot= True, cmap= 'plasma', vmin= -1 , vmax= 1, linecolor='white', linewidths=2)"
      ],
      "metadata": {
        "id": "VdclDnFV9QrP"
      },
      "execution_count": null,
      "outputs": []
    },
    {
      "cell_type": "code",
      "source": [
        "# Let's check data types of variables\n",
        "final_df.dtypes"
      ],
      "metadata": {
        "id": "aEXSd0H79cDM"
      },
      "execution_count": null,
      "outputs": []
    },
    {
      "cell_type": "code",
      "source": [
        "# Converting the datatypes of variables as of required datatype\n",
        "final_df['Fuel_Type_Diesel'] = final_df['Fuel_Type_Diesel'].astype('int64')\n",
        "final_df['Fuel_Type_Petrol'] = final_df['Fuel_Type_Petrol'].astype('int64')\n",
        "final_df['Seller_Type_Individual'] = final_df['Seller_Type_Individual'].astype('int64')\n",
        "final_df['Transmission_Manual'] = final_df['Transmission_Manual'].astype('int64')"
      ],
      "metadata": {
        "id": "l1pU3gof9hEw"
      },
      "execution_count": null,
      "outputs": []
    },
    {
      "cell_type": "code",
      "source": [
        "X = final_df.iloc[:, 1:]            # Feature matrix (independent variables)\n",
        "y = final_df.iloc[:, 0]             # Target variable (dependent variable)"
      ],
      "metadata": {
        "id": "6IVzZvEQ9hff"
      },
      "execution_count": null,
      "outputs": []
    },
    {
      "cell_type": "code",
      "source": [
        "# To check important feature\n",
        "from sklearn.ensemble import ExtraTreesRegressor\n",
        "\n",
        "model = ExtraTreesRegressor()\n",
        "model.fit(X,y)"
      ],
      "metadata": {
        "id": "LZOxe1DL9h2a"
      },
      "execution_count": null,
      "outputs": []
    },
    {
      "cell_type": "code",
      "source": [
        "print(model.feature_importances_)"
      ],
      "metadata": {
        "id": "xhH7y2np9soh"
      },
      "execution_count": null,
      "outputs": []
    },
    {
      "cell_type": "code",
      "source": [
        "\n",
        "imp_feature = pd.Series(model.feature_importances_, index = X.columns)\n",
        "imp_feature.nlargest(7).plot(kind = 'barh', color='red')\n",
        "plt.title('Important Features', fontsize=16)\n",
        "plt.show()"
      ],
      "metadata": {
        "id": "Sl7BNLCe9wz9"
      },
      "execution_count": null,
      "outputs": []
    },
    {
      "cell_type": "code",
      "source": [
        "from sklearn.model_selection import train_test_split\n",
        "\n",
        "X_train, X_test, y_train, y_test = train_test_split(X, y, test_size=0.2)"
      ],
      "metadata": {
        "id": "vQThKfhD9iDk"
      },
      "execution_count": null,
      "outputs": []
    },
    {
      "cell_type": "markdown",
      "source": [
        "Model Building"
      ],
      "metadata": {
        "id": "EsF0kpem94wp"
      }
    },
    {
      "cell_type": "code",
      "source": [
        "models = [ LinearRegression, SVR, DecisionTreeRegressor, RandomForestRegressor, Ridge, Lasso]\n",
        "mse = []\n",
        "rmse = []\n",
        "evs = []\n",
        "r_square_score = []\n",
        "\n",
        "for model in models:\n",
        "    regressor = model().fit(X_train, y_train)\n",
        "    pred = regressor.predict(X_test)\n",
        "    mse.append(mean_squared_error(y_true= y_test, y_pred= pred))\n",
        "    rmse.append(np.sqrt(mean_squared_error(y_true= y_test, y_pred= pred)))\n",
        "    evs.append(explained_variance_score(y_true= y_test, y_pred= pred))\n",
        "    r_square_score.append(r2_score(y_true= y_test, y_pred= pred))"
      ],
      "metadata": {
        "id": "0zoXw4ZP95mi"
      },
      "execution_count": null,
      "outputs": []
    },
    {
      "cell_type": "code",
      "source": [
        "# create a new DataFrame from the above three lists\n",
        "MLModels_df = pd.DataFrame({\"Models\": [ 'Linear Regression', 'Support Vector Rregression', 'Decision Tree Regressor', 'Random Forest Regressor', 'Ridge', 'Lasso'],\n",
        "                           \"Mean Squared Error\": mse,\n",
        "                           \"Root Mean Squared Error\": rmse,\n",
        "                           \"Explained Variance Score\": evs,\n",
        "                           \"R-Square Score / Accuracy\": r_square_score})\n",
        "\n",
        "MLModels_df.set_index('Models', inplace=True)\n",
        "MLModels_df.head()"
      ],
      "metadata": {
        "id": "CkSq7n8Q9-kw"
      },
      "execution_count": null,
      "outputs": []
    },
    {
      "cell_type": "markdown",
      "source": [],
      "metadata": {
        "id": "0U9ZTJL9-HCQ"
      }
    },
    {
      "cell_type": "code",
      "source": [
        "regressor = RandomForestRegressor()\n",
        "\n",
        "## Hyperparameters\n",
        "# number of trees\n",
        "n_estimators = [int(x) for x in np.linspace(start=100, stop=1200, num=12)]\n",
        "\n",
        "# number of features\n",
        "max_features = ['auto', 'sqrt']\n",
        "\n",
        "# max number of levels in tree\n",
        "max_depth = [int(x) for x in np.linspace(start= 5, stop= 30, num= 6)]\n",
        "\n",
        "# min. number of sample required to split a node\n",
        "min_samples_split = [2,5,10,15,100]\n",
        "\n",
        "# min. number of samples required at each leaf node\n",
        "min_samples_leaf = [1,2,5,10]"
      ],
      "metadata": {
        "id": "66pbdekY-EZs"
      },
      "execution_count": null,
      "outputs": []
    },
    {
      "cell_type": "code",
      "source": [
        "# Create the random grid\n",
        "random_grid= {'n_estimators': n_estimators,\n",
        "              'max_features' : max_features,\n",
        "              'max_depth' : max_depth,\n",
        "              'min_samples_split' : min_samples_split,\n",
        "              'min_samples_leaf' : min_samples_leaf}\n",
        "print(random_grid)"
      ],
      "metadata": {
        "id": "GGgkeutr-OEj"
      },
      "execution_count": null,
      "outputs": []
    },
    {
      "cell_type": "code",
      "source": [
        "regressor_random = RandomizedSearchCV(estimator=  regressor, param_distributions=  random_grid, scoring= 'neg_mean_squared_error', \\\n",
        "                                      n_iter = 10, cv=5, verbose = 2, random_state=42, n_jobs=1)\n",
        "regressor_random.fit(X_train, y_train)"
      ],
      "metadata": {
        "id": "VYn5BoZy9iP0"
      },
      "execution_count": null,
      "outputs": []
    },
    {
      "cell_type": "code",
      "source": [
        "y_predictions = regressor_random.predict(X_test)\n",
        "y_predictions"
      ],
      "metadata": {
        "id": "0u4HVO_B-Vtk"
      },
      "execution_count": null,
      "outputs": []
    },
    {
      "cell_type": "markdown",
      "source": [
        "Predicting Test Data by visualizing"
      ],
      "metadata": {
        "id": "ZECLyj5u-cpp"
      }
    },
    {
      "cell_type": "code",
      "source": [
        "plt.figure(figsize=(7,5))\n",
        "plt.scatter(x= y_test, y= y_predictions)\n",
        "plt.xlabel('Y Test (True values)')\n",
        "plt.ylabel('Predicted Values')\n",
        "plt.title('True value Vs Predicted values of Selling Price', fontsize=14)"
      ],
      "metadata": {
        "id": "zXadesue-Y90"
      },
      "execution_count": null,
      "outputs": []
    },
    {
      "cell_type": "code",
      "source": [
        "sns.distplot(y_test - y_predictions)"
      ],
      "metadata": {
        "id": "UySFG4XI-g0L"
      },
      "execution_count": null,
      "outputs": []
    },
    {
      "cell_type": "markdown",
      "source": [
        "Model Evaluation"
      ],
      "metadata": {
        "id": "ooGUEfzp-4Au"
      }
    },
    {
      "cell_type": "code",
      "source": [
        "print('Mean Absolute Error: ', mean_absolute_error(y_test, y_predictions))\n",
        "print('Mean Squareed Error: ', mean_squared_error(y_test, y_predictions))\n",
        "print('Root Mean Square Error: ', np.sqrt(mean_squared_error(y_test, y_predictions)))\n",
        "print('\\nExplaned Variance Score: ', explained_variance_score(y_true= y_test, y_pred= y_predictions))"
      ],
      "metadata": {
        "id": "04WuhAZ5-ks2"
      },
      "execution_count": null,
      "outputs": []
    },
    {
      "cell_type": "code",
      "source": [
        "print('Accuracy: ', r2_score(y_test, y_predictions))"
      ],
      "metadata": {
        "id": "WqWtx9F9-niK"
      },
      "execution_count": null,
      "outputs": []
    },
    {
      "cell_type": "markdown",
      "source": [],
      "metadata": {
        "id": "dk-Y6JLO-y64"
      }
    },
    {
      "cell_type": "code",
      "source": [
        "import pickle\n",
        "\n",
        "# open the file where you want to store\n",
        "file = open('rf_regression_model.pkl', 'wb')\n",
        "\n",
        "# dump information on that file\n",
        "pickle.dump(regressor_random, file)"
      ],
      "metadata": {
        "id": "hnzMfsz1-qWO"
      },
      "execution_count": null,
      "outputs": []
    }
  ]
}